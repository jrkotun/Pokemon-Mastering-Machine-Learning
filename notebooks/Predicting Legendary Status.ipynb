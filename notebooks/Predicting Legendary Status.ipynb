{
 "cells": [
  {
   "cell_type": "markdown",
   "metadata": {},
   "source": [
    "# Predicting Legendary Status\n",
    "- Try out different models and see which ones have the best accuracy scores out of the box.\n",
    "- Pick one or two of the best performers and tune the models to improve accuracy."
   ]
  },
  {
   "cell_type": "code",
   "execution_count": 1,
   "metadata": {},
   "outputs": [],
   "source": [
    "# Import libraries\n",
    "import pandas as pd\n",
    "import numpy as np\n",
    "import matplotlib.pyplot as plt\n",
    "import seaborn as sns\n",
    "from sklearn.model_selection import train_test_split\n",
    "from sklearn.tree import DecisionTreeClassifier\n",
    "from sklearn.naive_bayes import GaussianNB\n",
    "from sklearn.neighbors import KNeighborsClassifier\n",
    "from sklearn.linear_model import LogisticRegression\n",
    "from sklearn.neural_network import MLPClassifier\n",
    "from sklearn.ensemble import RandomForestClassifier\n",
    "from sklearn.svm import SVC\n",
    "from sklearn.metrics import accuracy_score, f1_score, confusion_matrix\n",
    "from sklearn.model_selection import RandomizedSearchCV"
   ]
  },
  {
   "cell_type": "code",
   "execution_count": 2,
   "metadata": {},
   "outputs": [],
   "source": [
    "# Prevent warnings from appearing\n",
    "import warnings\n",
    "warnings.filterwarnings(\"ignore\")"
   ]
  },
  {
   "cell_type": "code",
   "execution_count": 3,
   "metadata": {},
   "outputs": [],
   "source": [
    "# Change the amount of rows shown in printed dataframes\n",
    "pd.set_option('display.max_rows', None, 'display.max_columns', None)"
   ]
  },
  {
   "cell_type": "code",
   "execution_count": 4,
   "metadata": {},
   "outputs": [],
   "source": [
    "# Read in pokedex csv\n",
    "pokedex = pd.read_csv('../data/pokedex_merged.csv')\n",
    "pokedex = pokedex.where(pd.notnull(pokedex), None)"
   ]
  },
  {
   "cell_type": "markdown",
   "metadata": {},
   "source": [
    "## Models to Build and Test\n",
    "1. Decision Tree \n",
    "2. Gaussian Naïve Bayes\n",
    "3. K-nearest Neighbors\n",
    "4. Logistic Regression\n",
    "5. Neural Network\n",
    "6. Random Forest\n",
    "7. Support Vector Machines"
   ]
  },
  {
   "cell_type": "code",
   "execution_count": 28,
   "metadata": {},
   "outputs": [],
   "source": [
    "# Variables for train/test split function\n",
    "tst_size = 0.3\n",
    "random_seed = [321, 1994, 1997, 6006, 9001, 10352, 78091, 12343, 12903, 320991]\n",
    "dec_tree_acc = 0\n",
    "dec_tree_f1 = 0\n",
    "gauss_acc = 0\n",
    "gauss_f1 = 0\n",
    "knn_acc = 0\n",
    "knn_f1 = 0\n",
    "logreg_acc = 0\n",
    "logreg_f1 = 0\n",
    "nn_acc = 0\n",
    "nn_f1 = 0\n",
    "rand_forest_acc = 0\n",
    "rand_forest_f1 = 0\n",
    "svc_acc = 0\n",
    "svc_f1 = 0\n",
    "\n",
    "# Separate data by response and variable data\n",
    "X = pokedex[['total', 'average', 'hp', 'attack', 'defense', 'sp_atk', 'sp_def', 'speed', 'catch_rate']]\n",
    "y = pokedex['legendary']\n",
    "\n",
    "for seed in random_seed:\n",
    "    # Split data into train and test sets\n",
    "    X_train, X_test, y_train, y_test = train_test_split(X, y, \n",
    "                                                        test_size=tst_size, \n",
    "                                                        random_state=seed, \n",
    "                                                        stratify=y)\n",
    "    \n",
    "    # Instantiate models, fit them with training set, and predict values with the testing set\n",
    "    dec_tree_pred = DecisionTreeClassifier().fit(X_train, y_train).predict(X_test)\n",
    "    gauss_pred = GaussianNB().fit(X_train, y_train).predict(X_test)\n",
    "    knn_pred = KNeighborsClassifier().fit(X_train, y_train).predict(X_test)\n",
    "    logreg_pred = LogisticRegression().fit(X_train, y_train).predict(X_test)\n",
    "    nn_pred = MLPClassifier().fit(X_train, y_train).predict(X_test)\n",
    "    rand_forest_pred = RandomForestClassifier().fit(X_train, y_train).predict(X_test)\n",
    "    svc_pred = SVC().fit(X_train, y_train).predict(X_test)\n",
    "    \n",
    "    dec_tree_acc += accuracy_score(y_test, dec_tree_pred)\n",
    "    dec_tree_f1 += f1_score(y_test, dec_tree_pred)\n",
    "    \n",
    "    gauss_acc += accuracy_score(y_test, gauss_pred)\n",
    "    gauss_f1 += f1_score(y_test, gauss_pred)\n",
    "    \n",
    "    knn_acc += accuracy_score(y_test, knn_pred)\n",
    "    knn_f1 += f1_score(y_test, knn_pred)\n",
    "    \n",
    "    logreg_acc += accuracy_score(y_test, logreg_pred)\n",
    "    logreg_f1 += f1_score(y_test, logreg_pred)\n",
    "    \n",
    "    nn_acc += accuracy_score(y_test, nn_pred)\n",
    "    nn_f1 += f1_score(y_test, nn_pred)\n",
    "    \n",
    "    rand_forest_acc += accuracy_score(y_test, rand_forest_pred)\n",
    "    rand_forest_f1 += f1_score(y_test, rand_forest_pred)\n",
    "    \n",
    "    svc_acc += accuracy_score(y_test, svc_pred)\n",
    "    svc_f1 += f1_score(y_test, svc_pred)"
   ]
  },
  {
   "cell_type": "code",
   "execution_count": 29,
   "metadata": {},
   "outputs": [
    {
     "name": "stdout",
     "output_type": "stream",
     "text": [
      "The accuracy score we have achieved using Decision Tree is: 97.65%\n",
      "The F1-score we have achieved using Decision Tree is: 89.54%\n",
      "\n",
      "\n",
      "The accuracy score we have achieved using Gaussian Naive Bayes is: 90.31%\n",
      "The F1-score we have achieved using Gaussian Naive Bayes is: 67.36%\n",
      "\n",
      "\n",
      "The accuracy score we have achieved using K Nearest Neighbors is: 96.6%\n",
      "The F1-score we have achieved using K Nearest Neighbors is: 83.61%\n",
      "\n",
      "\n",
      "The accuracy score we have achieved using Logistic Regression is: 96.43%\n",
      "The F1-score we have achieved using Logistic Regression is: 82.84%\n",
      "\n",
      "\n",
      "The accuracy score we have achieved using Neural Network is: 95.54%\n",
      "The F1-score we have achieved using Neural Network is: 78.72%\n",
      "\n",
      "\n",
      "The accuracy score we have achieved using Random Forest is: 97.96%\n",
      "The F1-score we have achieved using Random Forest is: 90.74%\n",
      "\n",
      "\n",
      "The accuracy score we have achieved using Support Vector Classification is: 96.8%\n",
      "The F1-score we have achieved using Support Vector Classification is: 84.98%\n",
      "\n",
      "\n"
     ]
    }
   ],
   "source": [
    "dec_tree_acc_avg = round(dec_tree_acc * 10, 2)\n",
    "dec_tree_f1_avg = round(dec_tree_f1 * 10, 2)\n",
    "print('The accuracy score we have achieved using Decision Tree is: ' + str(dec_tree_acc_avg) + '%')\n",
    "print('The F1-score we have achieved using Decision Tree is: ' + str(dec_tree_f1_avg) + '%')\n",
    "print('\\n')\n",
    "\n",
    "gauss_acc_avg = round(gauss_acc * 10, 2)\n",
    "gauss_f1_avg = round(gauss_f1 * 10, 2)\n",
    "print('The accuracy score we have achieved using Gaussian Naive Bayes is: ' + str(gauss_acc_avg) + '%')\n",
    "print('The F1-score we have achieved using Gaussian Naive Bayes is: ' + str(gauss_f1_avg) + '%')\n",
    "print('\\n')\n",
    "\n",
    "knn_acc_avg = round(knn_acc * 10, 2)\n",
    "knn_f1_avg = round(knn_f1 * 10, 2)\n",
    "print('The accuracy score we have achieved using K Nearest Neighbors is: ' + str(knn_acc_avg) + '%')\n",
    "print('The F1-score we have achieved using K Nearest Neighbors is: ' + str(knn_f1_avg) + '%')\n",
    "print('\\n')\n",
    "\n",
    "logreg_acc_avg = round(logreg_acc * 10, 2)\n",
    "logreg_f1_avg = round(logreg_f1 * 10, 2)\n",
    "print('The accuracy score we have achieved using Logistic Regression is: ' + str(logreg_acc_avg) + '%')\n",
    "print('The F1-score we have achieved using Logistic Regression is: ' + str(logreg_f1_avg) + '%')\n",
    "print('\\n')\n",
    "\n",
    "nn_acc_avg = round(nn_acc * 10, 2)\n",
    "nn_f1_avg = round(nn_f1 * 10, 2)\n",
    "print('The accuracy score we have achieved using Neural Network is: ' + str(nn_acc_avg) + '%')\n",
    "print('The F1-score we have achieved using Neural Network is: ' + str(nn_f1_avg) + '%')\n",
    "print('\\n')\n",
    "\n",
    "rand_forest_acc_avg = round(rand_forest_acc * 10, 2)\n",
    "rand_forest_f1_avg = round(rand_forest_f1 * 10, 2)\n",
    "print('The accuracy score we have achieved using Random Forest is: ' + str(rand_forest_acc_avg) + '%')\n",
    "print('The F1-score we have achieved using Random Forest is: ' + str(rand_forest_f1_avg) + '%')\n",
    "print('\\n')\n",
    "\n",
    "svc_acc_avg = round(svc_acc * 10, 2)\n",
    "svc_f1_avg = round(svc_f1 * 10, 2)\n",
    "print('The accuracy score we have achieved using Support Vector Classification is: ' + str(svc_acc_avg) + '%')\n",
    "print('The F1-score we have achieved using Support Vector Classification is: ' + str(svc_f1_avg) + '%')\n",
    "print('\\n')"
   ]
  },
  {
   "cell_type": "code",
   "execution_count": 30,
   "metadata": {},
   "outputs": [
    {
     "data": {
      "text/html": [
       "<div>\n",
       "<style scoped>\n",
       "    .dataframe tbody tr th:only-of-type {\n",
       "        vertical-align: middle;\n",
       "    }\n",
       "\n",
       "    .dataframe tbody tr th {\n",
       "        vertical-align: top;\n",
       "    }\n",
       "\n",
       "    .dataframe thead th {\n",
       "        text-align: right;\n",
       "    }\n",
       "</style>\n",
       "<table border=\"1\" class=\"dataframe\">\n",
       "  <thead>\n",
       "    <tr style=\"text-align: right;\">\n",
       "      <th></th>\n",
       "      <th>join_id_original</th>\n",
       "      <th>total</th>\n",
       "      <th>average</th>\n",
       "      <th>hp</th>\n",
       "      <th>attack</th>\n",
       "      <th>defense</th>\n",
       "      <th>sp_atk</th>\n",
       "      <th>sp_def</th>\n",
       "      <th>speed</th>\n",
       "      <th>catch_rate</th>\n",
       "      <th>legendary_predictions</th>\n",
       "      <th>join_id_pred</th>\n",
       "      <th>name</th>\n",
       "      <th>legendary</th>\n",
       "    </tr>\n",
       "  </thead>\n",
       "  <tbody>\n",
       "    <tr>\n",
       "      <th>4</th>\n",
       "      <td>955</td>\n",
       "      <td>600</td>\n",
       "      <td>100.00</td>\n",
       "      <td>88</td>\n",
       "      <td>120</td>\n",
       "      <td>75</td>\n",
       "      <td>100</td>\n",
       "      <td>75</td>\n",
       "      <td>142</td>\n",
       "      <td>45</td>\n",
       "      <td>True</td>\n",
       "      <td>955</td>\n",
       "      <td>Dragapult</td>\n",
       "      <td>False</td>\n",
       "    </tr>\n",
       "    <tr>\n",
       "      <th>59</th>\n",
       "      <td>853</td>\n",
       "      <td>200</td>\n",
       "      <td>33.33</td>\n",
       "      <td>43</td>\n",
       "      <td>29</td>\n",
       "      <td>31</td>\n",
       "      <td>29</td>\n",
       "      <td>31</td>\n",
       "      <td>37</td>\n",
       "      <td>45</td>\n",
       "      <td>False</td>\n",
       "      <td>853</td>\n",
       "      <td>Cosmog</td>\n",
       "      <td>True</td>\n",
       "    </tr>\n",
       "    <tr>\n",
       "      <th>110</th>\n",
       "      <td>871</td>\n",
       "      <td>540</td>\n",
       "      <td>90.00</td>\n",
       "      <td>73</td>\n",
       "      <td>73</td>\n",
       "      <td>73</td>\n",
       "      <td>127</td>\n",
       "      <td>73</td>\n",
       "      <td>121</td>\n",
       "      <td>45</td>\n",
       "      <td>False</td>\n",
       "      <td>871</td>\n",
       "      <td>Naganadel</td>\n",
       "      <td>True</td>\n",
       "    </tr>\n",
       "    <tr>\n",
       "      <th>121</th>\n",
       "      <td>412</td>\n",
       "      <td>600</td>\n",
       "      <td>100.00</td>\n",
       "      <td>95</td>\n",
       "      <td>135</td>\n",
       "      <td>80</td>\n",
       "      <td>110</td>\n",
       "      <td>80</td>\n",
       "      <td>100</td>\n",
       "      <td>45</td>\n",
       "      <td>True</td>\n",
       "      <td>412</td>\n",
       "      <td>Salamence</td>\n",
       "      <td>False</td>\n",
       "    </tr>\n",
       "    <tr>\n",
       "      <th>192</th>\n",
       "      <td>688</td>\n",
       "      <td>600</td>\n",
       "      <td>100.00</td>\n",
       "      <td>92</td>\n",
       "      <td>105</td>\n",
       "      <td>90</td>\n",
       "      <td>125</td>\n",
       "      <td>90</td>\n",
       "      <td>98</td>\n",
       "      <td>45</td>\n",
       "      <td>True</td>\n",
       "      <td>688</td>\n",
       "      <td>Hydreigon</td>\n",
       "      <td>False</td>\n",
       "    </tr>\n",
       "    <tr>\n",
       "      <th>211</th>\n",
       "      <td>616</td>\n",
       "      <td>567</td>\n",
       "      <td>94.50</td>\n",
       "      <td>75</td>\n",
       "      <td>140</td>\n",
       "      <td>65</td>\n",
       "      <td>112</td>\n",
       "      <td>65</td>\n",
       "      <td>110</td>\n",
       "      <td>45</td>\n",
       "      <td>True</td>\n",
       "      <td>616</td>\n",
       "      <td>Archeops</td>\n",
       "      <td>False</td>\n",
       "    </tr>\n",
       "    <tr>\n",
       "      <th>215</th>\n",
       "      <td>961</td>\n",
       "      <td>385</td>\n",
       "      <td>64.17</td>\n",
       "      <td>60</td>\n",
       "      <td>90</td>\n",
       "      <td>60</td>\n",
       "      <td>53</td>\n",
       "      <td>50</td>\n",
       "      <td>72</td>\n",
       "      <td>3</td>\n",
       "      <td>False</td>\n",
       "      <td>961</td>\n",
       "      <td>Kubfu</td>\n",
       "      <td>True</td>\n",
       "    </tr>\n",
       "    <tr>\n",
       "      <th>243</th>\n",
       "      <td>488</td>\n",
       "      <td>600</td>\n",
       "      <td>100.00</td>\n",
       "      <td>108</td>\n",
       "      <td>130</td>\n",
       "      <td>95</td>\n",
       "      <td>80</td>\n",
       "      <td>85</td>\n",
       "      <td>102</td>\n",
       "      <td>45</td>\n",
       "      <td>True</td>\n",
       "      <td>488</td>\n",
       "      <td>Garchomp</td>\n",
       "      <td>False</td>\n",
       "    </tr>\n",
       "    <tr>\n",
       "      <th>266</th>\n",
       "      <td>761</td>\n",
       "      <td>600</td>\n",
       "      <td>100.00</td>\n",
       "      <td>90</td>\n",
       "      <td>100</td>\n",
       "      <td>70</td>\n",
       "      <td>110</td>\n",
       "      <td>150</td>\n",
       "      <td>80</td>\n",
       "      <td>45</td>\n",
       "      <td>True</td>\n",
       "      <td>761</td>\n",
       "      <td>Goodra</td>\n",
       "      <td>False</td>\n",
       "    </tr>\n",
       "    <tr>\n",
       "      <th>289</th>\n",
       "      <td>762</td>\n",
       "      <td>600</td>\n",
       "      <td>100.00</td>\n",
       "      <td>80</td>\n",
       "      <td>100</td>\n",
       "      <td>100</td>\n",
       "      <td>110</td>\n",
       "      <td>150</td>\n",
       "      <td>60</td>\n",
       "      <td>45</td>\n",
       "      <td>True</td>\n",
       "      <td>762</td>\n",
       "      <td>Goodra Hisuian Goodra</td>\n",
       "      <td>False</td>\n",
       "    </tr>\n",
       "  </tbody>\n",
       "</table>\n",
       "</div>"
      ],
      "text/plain": [
       "     join_id_original  total  average   hp  attack  defense  sp_atk  sp_def  \\\n",
       "4                 955    600   100.00   88     120       75     100      75   \n",
       "59                853    200    33.33   43      29       31      29      31   \n",
       "110               871    540    90.00   73      73       73     127      73   \n",
       "121               412    600   100.00   95     135       80     110      80   \n",
       "192               688    600   100.00   92     105       90     125      90   \n",
       "211               616    567    94.50   75     140       65     112      65   \n",
       "215               961    385    64.17   60      90       60      53      50   \n",
       "243               488    600   100.00  108     130       95      80      85   \n",
       "266               761    600   100.00   90     100       70     110     150   \n",
       "289               762    600   100.00   80     100      100     110     150   \n",
       "\n",
       "     speed  catch_rate  legendary_predictions  join_id_pred  \\\n",
       "4      142          45                   True           955   \n",
       "59      37          45                  False           853   \n",
       "110    121          45                  False           871   \n",
       "121    100          45                   True           412   \n",
       "192     98          45                   True           688   \n",
       "211    110          45                   True           616   \n",
       "215     72           3                  False           961   \n",
       "243    102          45                   True           488   \n",
       "266     80          45                   True           761   \n",
       "289     60          45                   True           762   \n",
       "\n",
       "                      name  legendary  \n",
       "4                Dragapult      False  \n",
       "59                  Cosmog       True  \n",
       "110              Naganadel       True  \n",
       "121              Salamence      False  \n",
       "192              Hydreigon      False  \n",
       "211               Archeops      False  \n",
       "215                  Kubfu       True  \n",
       "243               Garchomp      False  \n",
       "266                 Goodra      False  \n",
       "289  Goodra Hisuian Goodra      False  "
      ]
     },
     "execution_count": 30,
     "metadata": {},
     "output_type": "execute_result"
    }
   ],
   "source": [
    "pokedex_short = pokedex[['name', 'legendary']].reset_index().rename(columns={'index':'join_id'})\n",
    "rand_forest_df = X_test.reset_index().rename(columns={'index':'join_id'})\n",
    "rand_forest_df['legendary_predictions'] = pd.Series(rand_forest_pred)\n",
    "pokedex_merge = rand_forest_df.join(pokedex_short, how='left', on='join_id', lsuffix='_original', rsuffix='_pred')\n",
    "pokedex_merge[pokedex_merge['legendary'] != pokedex_merge['legendary_predictions']]"
   ]
  },
  {
   "cell_type": "code",
   "execution_count": 31,
   "metadata": {
    "scrolled": false
   },
   "outputs": [
    {
     "data": {
      "image/png": "[encoded data removed]",
      "text/plain": [
       "<Figure size 1152x648 with 2 Axes>"
      ]
     },
     "metadata": {
      "needs_background": "light"
     },
     "output_type": "display_data"
    }
   ],
   "source": [
    "plt.figure(figsize=(16,9))\n",
    "fontsize=16\n",
    "\n",
    "cf_matrix = confusion_matrix(y_test, rand_forest_pred)\n",
    "ax = sns.heatmap(cf_matrix/np.sum(cf_matrix), \n",
    "                 annot=True,\n",
    "                 annot_kws={\"size\": fontsize},\n",
    "                 fmt='.2%', \n",
    "                 cmap='Blues')\n",
    "\n",
    "ax.set_title('Random Forest Confusion Matrix', fontsize=fontsize);\n",
    "ax.set_xlabel('Predicted Values', fontsize=fontsize, labelpad=10)\n",
    "ax.set_ylabel('Actual Values', fontsize=fontsize, labelpad=10);\n",
    "\n",
    "ax.xaxis.set_ticklabels(['False','True'], fontsize=fontsize-2)\n",
    "ax.yaxis.set_ticklabels(['False','True'], fontsize=fontsize-2);"
   ]
  },
  {
   "cell_type": "markdown",
   "metadata": {},
   "source": [
    "### Results from Different Models\n",
    "#### Conclusion:\n",
    "- Random Forest is consistenly the best performing model in predicting legendary status across multiple seeds. Will tune the hyperparameters of the Random Forest model to improve accuracy."
   ]
  },
  {
   "cell_type": "markdown",
   "metadata": {},
   "source": [
    "## Model Tuning\n",
    "### Will tune the following hyperparameters for the Random Forest model:\n",
    "- Number of Decision Trees in the Forest (n_estimators) = Increase number of trees to make sure all features are covered by model and reduce model error.\n",
    "- Criteria to Split On (criterion) = Try different functions to test different node splits.\n",
    "- Max Depth of the Individual Trees (max_depth) = Deeper trees mean more information about the data is taken into account possibly leading to better predicitons.\n",
    "- Number of Random Features to Consider at Each Split (max_features) = Test different number of features at each split to see which results in best results.\n",
    "- Percentage of the Training Data Used to Train Each Tree (bootstrap, max_samples) = Manipulate how much of the data is used to train each tree."
   ]
  },
  {
   "cell_type": "code",
   "execution_count": 32,
   "metadata": {},
   "outputs": [],
   "source": [
    "# Create the random grid\n",
    "random_grid = {'n_estimators': [100, 500, 1000, 2000, 5000],\n",
    "               'criterion': ['gini', 'entropy', 'log_loss'],\n",
    "               'max_depth': [100, 200, 300, 400, 500, None],\n",
    "               'max_features': ['auto', 'sqrt', 'log2', None],\n",
    "               'bootstrap': [True], \n",
    "               'max_samples': [100, 200, 300, None]}"
   ]
  },
  {
   "cell_type": "code",
   "execution_count": 57,
   "metadata": {},
   "outputs": [],
   "source": [
    "# Split data into train and test sets\n",
    "X_train, X_test, y_train, y_test = train_test_split(X, y, \n",
    "                                                    test_size=0.30, \n",
    "                                                    random_state=1994, \n",
    "                                                    stratify=y)"
   ]
  },
  {
   "cell_type": "code",
   "execution_count": 58,
   "metadata": {},
   "outputs": [
    {
     "name": "stdout",
     "output_type": "stream",
     "text": [
      "Fitting 3 folds for each of 200 candidates, totalling 600 fits\n"
     ]
    },
    {
     "name": "stderr",
     "output_type": "stream",
     "text": [
      "[Parallel(n_jobs=-1)]: Using backend LokyBackend with 12 concurrent workers.\n",
      "[Parallel(n_jobs=-1)]: Done  17 tasks      | elapsed:   12.7s\n",
      "[Parallel(n_jobs=-1)]: Done 138 tasks      | elapsed:  1.2min\n",
      "[Parallel(n_jobs=-1)]: Done 341 tasks      | elapsed:  3.8min\n",
      "[Parallel(n_jobs=-1)]: Done 600 out of 600 | elapsed:  6.7min finished\n"
     ]
    }
   ],
   "source": [
    "rf = RandomForestClassifier()\n",
    "\n",
    "rf_random = RandomizedSearchCV(estimator=rf, \n",
    "                               param_distributions=random_grid, \n",
    "                               n_iter=200, \n",
    "                               cv=3, \n",
    "                               verbose=2, \n",
    "                               random_state=seed, \n",
    "                               n_jobs=-1)\n",
    "# Fit the random search model\n",
    "rf_random.fit(X_train, y_train);"
   ]
  },
  {
   "cell_type": "code",
   "execution_count": 59,
   "metadata": {
    "scrolled": true
   },
   "outputs": [
    {
     "data": {
      "text/plain": [
       "{'n_estimators': 100,\n",
       " 'max_samples': 300,\n",
       " 'max_features': None,\n",
       " 'max_depth': None,\n",
       " 'criterion': 'gini',\n",
       " 'bootstrap': True}"
      ]
     },
     "execution_count": 59,
     "metadata": {},
     "output_type": "execute_result"
    }
   ],
   "source": [
    "rf_random.best_params_"
   ]
  },
  {
   "cell_type": "code",
   "execution_count": 60,
   "metadata": {},
   "outputs": [
    {
     "name": "stdout",
     "output_type": "stream",
     "text": [
      "The accuracy score we have achieved using Random Forest is: 96.6%\n",
      "The F1-score we have achieved using Random Forest is: 85.29%\n",
      "\n",
      "\n"
     ]
    }
   ],
   "source": [
    "rf_pred = RandomForestClassifier().fit(X_train, y_train).predict(X_test)\n",
    "rand_forest_acc = round(accuracy_score(y_test, rf_pred) * 100, 2)\n",
    "rand_forest_f1 = round(f1_score(y_test, rf_pred) * 100, 2)\n",
    "print('The accuracy score we have achieved using Random Forest is: ' + str(rand_forest_acc) + '%')\n",
    "print('The F1-score we have achieved using Random Forest is: ' + str(rand_forest_f1) + '%')\n",
    "print('\\n')"
   ]
  },
  {
   "cell_type": "code",
   "execution_count": 61,
   "metadata": {},
   "outputs": [
    {
     "name": "stdout",
     "output_type": "stream",
     "text": [
      "The accuracy score we have achieved using Random Forest is: 96.6%\n",
      "The F1-score we have achieved using Random Forest is: 85.71%\n",
      "\n",
      "\n"
     ]
    }
   ],
   "source": [
    "rf_best_params_pred = RandomForestClassifier(**rf_random.best_params_).fit(X_train, y_train).predict(X_test)\n",
    "rand_forest_acc = round(accuracy_score(y_test, rf_best_params_pred) * 100, 2)\n",
    "rand_forest_f1 = round(f1_score(y_test, rf_best_params_pred) * 100, 2)\n",
    "print('The accuracy score we have achieved using Random Forest is: ' + str(rand_forest_acc) + '%')\n",
    "print('The F1-score we have achieved using Random Forest is: ' + str(rand_forest_f1) + '%')\n",
    "print('\\n')"
   ]
  }
 ],
 "metadata": {
  "kernelspec": {
   "display_name": "Python 3",
   "language": "python",
   "name": "python3"
  },
  "language_info": {
   "codemirror_mode": {
    "name": "ipython",
    "version": 3
   },
   "file_extension": ".py",
   "mimetype": "text/x-python",
   "name": "python",
   "nbconvert_exporter": "python",
   "pygments_lexer": "ipython3",
   "version": "3.8.5"
  }
 },
 "nbformat": 4,
 "nbformat_minor": 4
}
