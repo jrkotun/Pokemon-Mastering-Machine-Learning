{
 "cells": [
  {
   "cell_type": "markdown",
   "metadata": {},
   "source": [
    "## Web Scraping"
   ]
  },
  {
   "cell_type": "markdown",
   "metadata": {},
   "source": [
    "### 1. From pokemondb.net, I want the following information:\n",
    "- Pokedex #\n",
    "- Pokemon Name\n",
    "- Type\n",
    "- Stat Total (sum of HP, Attack, Defense, Sp. Atk, Sp. Def, and Speed)\n",
    "- HP\n",
    "- Attack\n",
    "- Defense\n",
    "- Sp. Atk\n",
    "- Sp. Def\n",
    "- Speed\n",
    "- Pokemon Moves learned via level up\n",
    "\n",
    "### 2. From bulbapedia.net, I want the following information:\n",
    "- Catch Rates\n",
    "- Egg Groups\n",
    "\n",
    "### 3. From serebii.net. I want the following information:\n",
    "- Pokemon unobtainable in Sword/Shield\n",
    "- Pokemon unobtainable in Brilliant Diamond and Shining Pearl"
   ]
  },
  {
   "cell_type": "code",
   "execution_count": 1,
   "metadata": {},
   "outputs": [],
   "source": [
    "# Import relevant libraries\n",
    "import pandas as pd\n",
    "import numpy as np\n",
    "import requests\n",
    "import re\n",
    "from bs4 import BeautifulSoup as BS\n",
    "\n",
    "import warnings\n",
    "warnings.filterwarnings(\"ignore\")"
   ]
  },
  {
   "cell_type": "code",
   "execution_count": 2,
   "metadata": {},
   "outputs": [],
   "source": [
    "# Change the amount of rows shown in printed dataframes\n",
    "pd.set_option('display.max_rows', 10)"
   ]
  },
  {
   "cell_type": "code",
   "execution_count": 3,
   "metadata": {
    "scrolled": false
   },
   "outputs": [],
   "source": [
    "# Read in pokemondb webpage\n",
    "URL = 'https://pokemondb.net/pokedex/all'\n",
    "response = requests.get(URL)\n",
    "soup = BS(response.text)\n",
    "\n",
    "# Bring pokedex table into notebook as a dataframe\n",
    "pokedex = pd.read_html(str(soup.find(\"table\")))[0]"
   ]
  },
  {
   "cell_type": "code",
   "execution_count": 4,
   "metadata": {
    "scrolled": true
   },
   "outputs": [],
   "source": [
    "# Read in bulbapedia webpage for catch rates\n",
    "URL = 'https://web.archive.org/web/20220520075934/https://bulbapedia.bulbagarden.net/wiki/List_of_Pokémon_by_catch_rate'\n",
    "response = requests.get(URL)\n",
    "soup = BS(response.text)\n",
    "\n",
    "# Bring catch rates table into notebook as a dataframe\n",
    "catch_rate = pd.read_html(str(soup.findAll(\"table\")))[1]"
   ]
  },
  {
   "cell_type": "code",
   "execution_count": 5,
   "metadata": {},
   "outputs": [],
   "source": [
    "# Read in bulbapedia webpage for egg groups\n",
    "URL = 'https://web.archive.org/web/20220503001732/https://bulbapedia.bulbagarden.net/wiki/List_of_Pokémon_by_Egg_Group'\n",
    "response = requests.get(URL)\n",
    "soup = BS(response.text)\n",
    "\n",
    "# Bring egg group table into notebook as a dataframe\n",
    "egg_group = pd.read_html(str(soup.findAll(\"table\")))[2]"
   ]
  },
  {
   "cell_type": "code",
   "execution_count": 6,
   "metadata": {},
   "outputs": [],
   "source": [
    "# Read in list of Pokemon not available in Sword and Shield\n",
    "URL = 'https://www.serebii.net/swordshield/unobtainable.shtml'\n",
    "response = requests.get(URL)\n",
    "soup = BS(response.text)\n",
    "\n",
    "# Bring excluded Pokemon table into notebook as a dataframe\n",
    "pokemon_not_in_sword_shield = pd.read_html(str(soup.findAll(\"table\")))[0]"
   ]
  },
  {
   "cell_type": "code",
   "execution_count": 7,
   "metadata": {},
   "outputs": [],
   "source": [
    "# Read in list of Pokemon not available in Brilliant Diamond and Shining Pearl\n",
    "URL = 'https://www.serebii.net/brilliantdiamondshiningpearl/unobtainable.shtml'\n",
    "response = requests.get(URL)\n",
    "soup = BS(response.text)\n",
    "\n",
    "# Bring excluded Pokemon table into notebook as a dataframe\n",
    "pokemon_not_in_diamond_pearl = pd.read_html(str(soup.findAll(\"table\")))[0]"
   ]
  },
  {
   "cell_type": "markdown",
   "metadata": {},
   "source": [
    "## Data Cleaning"
   ]
  },
  {
   "cell_type": "markdown",
   "metadata": {},
   "source": [
    "### There are certain Pokemon that need to be removed from the dataset to prevent inaccurate training or overtraining of the machine learning model.\n",
    "### Remove the Following Pokemon:\n",
    "- Mega Pokemon\n",
    "- Partner Pokemon\n",
    "- Primal Pokemon\n",
    "- Castform Alternate Forms\n",
    "- Deoxys Alternate Forms\n",
    "- Rotom Forms\n",
    "- Dialga, Palkia, Giratina Origin Formes\n",
    "- Darmanitan Zen Modes\n",
    "- Basculin White and Red-Striped Form\n",
    "- Therian Forms\n",
    "- Black and White Kyurems\n",
    "- Keldeo Resolute Form\n",
    "- Ash-Greninja\n",
    "- Meowstic Female\n",
    "- Pumpkaboo and Gourgeist Small, Large, and Super Sizes\n",
    "- Zygarde 10% and Complete Formes\n",
    "- Rockruff Own Tempo Rockruff\n",
    "- Wishiwashi School Form\n",
    "- Toxtricity Amped Form\n",
    "- Eiscue Noice Face\n",
    "- Morpeko Hangry Mode\n",
    "- Eternatus Eternamax\n",
    "- Urshifu Rapid Strike Style"
   ]
  },
  {
   "cell_type": "code",
   "execution_count": 8,
   "metadata": {},
   "outputs": [],
   "source": [
    "# Clean pokedex column names\n",
    "pokedex.columns = [x.lower().replace(\". \",\"_\") for x in pokedex.columns]\n",
    "\n",
    "# Change '#' column to 'pokedex_number' \n",
    "pokedex = pokedex.rename(columns={'#': 'pokedex_number'})"
   ]
  },
  {
   "cell_type": "code",
   "execution_count": 9,
   "metadata": {},
   "outputs": [],
   "source": [
    "# List of strings for Pokemon to be removed\n",
    "removable_string = ['Mega ', \n",
    "                    'Partner ', \n",
    "                    'Primal ', \n",
    "                    'Castform ',\n",
    "                    'Deoxys A', \n",
    "                    'Deoxys D', \n",
    "                    'Deoxys S',\n",
    "                    'Rotom ', \n",
    "                    'Origin', \n",
    "                    'Zen', \n",
    "                    'Basculin R', \n",
    "                    'Basculin W', \n",
    "                    'Therian', \n",
    "                    ' Kyurem', \n",
    "                    'Resolute', \n",
    "                    'Ash-Greninja', \n",
    "                    'Meowstic Female', \n",
    "                    'Pumpkaboo L', \n",
    "                    'Pumpkaboo S', \n",
    "                    'Gourgeist L', \n",
    "                    'Gourgeist S', \n",
    "                    'Zygarde 1', \n",
    "                    'Zygarde C', \n",
    "                    'Rockruff ', \n",
    "                    'Wishiwashi Sc', \n",
    "                    'Toxtricity A',\n",
    "                    'Noice', \n",
    "                    'Hangry', \n",
    "                    'Eternamax', \n",
    "                    'Urshifu Rapid',\n",
    "                    'Aegislash Shield Forme', \n",
    "                    'Minior Core Form']\n",
    "\n",
    "# Loop to Remove Pokemon\n",
    "for x in removable_string:\n",
    "    pokedex = pokedex[~(pokedex['name'].str.contains(x))]"
   ]
  },
  {
   "cell_type": "markdown",
   "metadata": {},
   "source": [
    "### Features that will need to be calculated/added in:\n",
    "- Pokemon Generation = Done\n",
    "- Create seprate columns for Primary type and secondary types = Done\n",
    "- Pokemon Legendary Status (Legendary or Normal) = Done\n",
    "- Make column that calculates average of all Pokemon stats = Done\n",
    "- Egg Group (for predicting types) = Done\n",
    "- Pokemon Movesets, Maybe Count Number of Move Types It Can Learn (for predicting types)\n",
    "- Pokemon Abilities (for predicting types) (will do if have more time, but will contunue without it)"
   ]
  },
  {
   "cell_type": "code",
   "execution_count": 10,
   "metadata": {},
   "outputs": [],
   "source": [
    "# Function to determine Pokemon's generation\n",
    "def pokemon_gen(pokedex_num, pokemon_name):\n",
    "    if 'Alolan' in pokemon_name:\n",
    "        return 7\n",
    "    elif 'Galarian' in pokemon_name:\n",
    "        return 8\n",
    "    elif 'Hisuian' in pokemon_name:\n",
    "        return 8\n",
    "    elif pokedex_num < 152:\n",
    "        return 1\n",
    "    elif pokedex_num < 252:\n",
    "        return 2\n",
    "    elif pokedex_num < 387:\n",
    "        return 3\n",
    "    elif pokedex_num < 494:\n",
    "        return 4\n",
    "    elif pokedex_num < 650:\n",
    "        return 5\n",
    "    elif pokedex_num < 722:\n",
    "        return 6\n",
    "    elif pokedex_num < 810:\n",
    "        return 7\n",
    "    else:\n",
    "        return 8\n",
    "    \n",
    "# Loop through data and assign a generation to each pokemon\n",
    "pokedex['generation'] = ''\n",
    "\n",
    "for ind in pokedex.index:\n",
    "    number = pokedex['pokedex_number'][ind]\n",
    "    name = pokedex['name'][ind]\n",
    "    pokedex['generation'][ind] = pokemon_gen(number, name)"
   ]
  },
  {
   "cell_type": "code",
   "execution_count": 11,
   "metadata": {},
   "outputs": [],
   "source": [
    "# Calculate the average of each Pokemon's stat total\n",
    "pokedex.insert(loc = 4, \n",
    "               column = 'average', \n",
    "               value = (pokedex['total'] / 6).round(2))"
   ]
  },
  {
   "cell_type": "code",
   "execution_count": 12,
   "metadata": {},
   "outputs": [],
   "source": [
    "# Split the 'type' column into 'primary_type' and 'secondary_type' columns\n",
    "types = pokedex['type'].str.split(expand = True)\n",
    "pokedex['type'] = types[0]\n",
    "pokedex.insert(loc = 3, \n",
    "               column = 'secondary_type', \n",
    "               value = types[1])\n",
    "\n",
    "# Rename 'type' column to 'primary_type'\n",
    "pokedex = pokedex.rename(columns={'type': 'primary_type'})"
   ]
  },
  {
   "cell_type": "code",
   "execution_count": 13,
   "metadata": {},
   "outputs": [],
   "source": [
    "# Modify name of Nidoran male and female\n",
    "pokedex['name'].replace({\"Nidoran♀\": 'Nidoran F'}, inplace=True)\n",
    "pokedex['name'].replace({\"Nidoran♂\": 'Nidoran M'}, inplace=True)\n",
    "pokedex['name'].replace({\"Flabébé\": 'Flabebe'}, inplace=True)"
   ]
  },
  {
   "cell_type": "code",
   "execution_count": 14,
   "metadata": {},
   "outputs": [],
   "source": [
    "# Create lists of pokedex numbers for legendary and pseudo-legendary pokemon\n",
    "legendary_pokedex_number = [144, 145, 146, 150, 151, 243, 244, 245, 249, 250, \n",
    "                            251, 377, 378, 379, 380, 381, 382, 383, 384, 385, \n",
    "                            386, 480, 481, 482, 483, 484, 485, 486, 487, 489, \n",
    "                            490, 491, 492, 493, 494, 638, 639, 640, 641, 642, \n",
    "                            643, 644, 645, 646, 647, 648, 649, 716, 717, 718, \n",
    "                            719, 720, 721, 772, 773, 785, 786, 787, 788, 789, \n",
    "                            790, 791, 792, 793, 794, 795, 796, 797, 798, 799, \n",
    "                            800, 801, 802, 803, 804, 805, 806, 807, 808, 809, \n",
    "                            888, 889, 890, 891, 892, 893, 894, 895, 896, 897, \n",
    "                            898, 905]\n",
    "\n",
    "# Create legendary column and assign bool value to every Pokemon\n",
    "pokedex['legendary'] = ''\n",
    "\n",
    "for ind in pokedex.index:\n",
    "    number = pokedex['pokedex_number'][ind]\n",
    "    \n",
    "    if number in legendary_pokedex_number:\n",
    "        pokedex['legendary'][ind] = True\n",
    "    else:\n",
    "        pokedex['legendary'][ind] = False"
   ]
  },
  {
   "cell_type": "code",
   "execution_count": 15,
   "metadata": {},
   "outputs": [],
   "source": [
    "# Remove Partner Eevee and Pikachu from catch_rate\n",
    "catch_rate = catch_rate[~(catch_rate['Name'].str.contains('Partner'))].reset_index(drop=True)\n",
    "\n",
    "# Drop and rename columns in catch_rate\n",
    "catch_rate = catch_rate.drop(columns={'Name', 'Unnamed: 1'}).rename(columns={'#': 'pokedex_number'})\n",
    "\n",
    "# Clean catch_rate column names\n",
    "catch_rate.columns = [x.lower().replace(\" \",\"_\") for x in catch_rate.columns]\n",
    "\n",
    "# Extract digits only in the catch_rate column\n",
    "catch_rate['catch_rate'] = catch_rate['catch_rate'].str.extract('(\\d+)')"
   ]
  },
  {
   "cell_type": "code",
   "execution_count": 16,
   "metadata": {},
   "outputs": [],
   "source": [
    "# Create catch rate rows for last few Pokedex entries\n",
    "pokedex_number_list = list(range(899, 906))\n",
    "catch_rate_list = [135, 115, 75, 135, 135, 135, 3]\n",
    "\n",
    "for i, j in zip(pokedex_number_list, catch_rate_list):\n",
    "    catch_rate.loc[len(catch_rate.index)] = [i, j]"
   ]
  },
  {
   "cell_type": "code",
   "execution_count": 17,
   "metadata": {},
   "outputs": [],
   "source": [
    "# Drop and rename columns in egg_group dataframe\n",
    "egg_group = egg_group.drop(columns={'Unnamed: 1', 'Pokémon'}).rename(columns={'#': 'pokedex_number'})\n",
    "\n",
    "# Clean catch_rate column names\n",
    "egg_group.columns = [x.lower().replace(\" \",\"_\") for x in egg_group.columns]\n",
    "\n",
    "# Replace 'No Eggs Discovered' entries with NaN\n",
    "egg_group['egg_group_1'].replace({\"No Eggs Discovered\": np.nan}, inplace=True)\n",
    "\n",
    "# Remove * from both egg_group columns\n",
    "egg_group['egg_group_1'] = egg_group['egg_group_1'].str.replace(\"*\",\"\")\n",
    "\n",
    "# Remove * from both egg_group columns\n",
    "egg_group['egg_group_2'] = egg_group['egg_group_2'].str.replace(\"*\",\"\")"
   ]
  },
  {
   "cell_type": "code",
   "execution_count": 18,
   "metadata": {},
   "outputs": [],
   "source": [
    "# Drop first two rows of pokemon_not_in_sword_shield dataframe\n",
    "pokemon_not_in_sword_shield = pokemon_not_in_sword_shield.drop([0,1])\n",
    "\n",
    "# Change name of pokemon_not_in_sword_shield columns\n",
    "pokemon_not_in_sword_shield.columns = ['pokedex_number', '1', '2', '3', '4', '5', '6', '7', '8', '9', '10']\n",
    "\n",
    "# Extract digits only in the first column\n",
    "pokemon_not_in_sword_shield['pokedex_number'] = pokemon_not_in_sword_shield['pokedex_number'].str.extract('(\\d+)').astype('int64')"
   ]
  },
  {
   "cell_type": "code",
   "execution_count": 19,
   "metadata": {},
   "outputs": [],
   "source": [
    "# Drop first two rows of pokemon_not_in_sword_shield dataframe\n",
    "pokemon_not_in_diamond_pearl = pokemon_not_in_diamond_pearl.drop(0)\n",
    "\n",
    "# Change name of pokemon_not_in_sword_shield columns\n",
    "pokemon_not_in_diamond_pearl.columns = ['pokedex_number', '1', 'name', '3', '4']\n",
    "\n",
    "# Extract digits only in the first column\n",
    "pokemon_not_in_diamond_pearl['pokedex_number'] = pokemon_not_in_diamond_pearl['pokedex_number'].str.extract('(\\d+)').astype('int64')\n",
    "\n",
    "# Remove Alolan and Galarian Pokemon\n",
    "pokemon_not_in_diamond_pearl = pokemon_not_in_diamond_pearl[~(pokemon_not_in_diamond_pearl['name'].str.contains('Alolan'))]\n",
    "pokemon_not_in_diamond_pearl = pokemon_not_in_diamond_pearl[~(pokemon_not_in_diamond_pearl['name'].str.contains('Galarian'))]"
   ]
  },
  {
   "cell_type": "code",
   "execution_count": 20,
   "metadata": {},
   "outputs": [],
   "source": [
    "excluded_pokemon = np.intersect1d(pokemon_not_in_sword_shield['pokedex_number'].unique(), pokemon_not_in_diamond_pearl['pokedex_number'].unique())"
   ]
  },
  {
   "cell_type": "code",
   "execution_count": 21,
   "metadata": {},
   "outputs": [],
   "source": [
    "# Create dataframe to record each Pokemon's number of moves\n",
    "moves_dataset = pd.DataFrame(data={'pokedex_number': [], 'name': []})\n",
    "\n",
    "# Create column for each move type\n",
    "for i in pokedex['primary_type'].unique():\n",
    "    i = i.lower()\n",
    "    column_name = 'number_of_{}_moves'.format(i)\n",
    "    moves_dataset[column_name] = \"\""
   ]
  },
  {
   "cell_type": "code",
   "execution_count": 22,
   "metadata": {},
   "outputs": [],
   "source": [
    "# Function defined to clean Pokemon names to format them into the moveset URLs\n",
    "def pokemon_name_cleaning(name):\n",
    "    name = name.lower().replace(' ', '-').replace(' ', '-').replace('.','').replace(':','').replace(\"'\",'')\n",
    "    \n",
    "    if 'alolan' in name:\n",
    "        name = re.sub('-alolan.*', '', name)\n",
    "    elif 'galarian' in name:\n",
    "        name = re.sub('-galarian.*', '', name)\n",
    "    elif 'hisuian' in name:\n",
    "        name = re.sub('-hisuian.*', '', name)\n",
    "    elif 'incarnate' in name:\n",
    "        name = re.sub('-.*', '', name)\n",
    "    elif 'deoxys' in name:\n",
    "        name = re.sub('-.*', '', name)\n",
    "    elif 'burmy' in name:\n",
    "        name = re.sub('-.*', '', name)\n",
    "    elif 'wormadam' in name:\n",
    "        name = re.sub('-.*', '', name)\n",
    "    elif 'giratina' in name:\n",
    "        name = re.sub('-.*', '', name)\n",
    "    elif 'shaymin' in name:\n",
    "        name = re.sub('-.*', '', name)\n",
    "    elif 'basculin' in name:\n",
    "        name = re.sub('-.*', '', name)\n",
    "    elif 'darmanitan' in name:\n",
    "        name = re.sub('-.*', '', name)\n",
    "    elif 'keldeo' in name:\n",
    "        name = re.sub('-.*', '', name)\n",
    "    elif 'meloetta' in name:\n",
    "        name = re.sub('-.*', '', name)\n",
    "    elif 'aegislash' in name:\n",
    "        name = re.sub('-.*', '', name)\n",
    "    elif 'pumpkaboo' in name:\n",
    "        name = re.sub('-.*', '', name)\n",
    "    elif 'gourgeist' in name:\n",
    "        name = re.sub('-.*', '', name)\n",
    "    elif 'zygarde' in name:\n",
    "        name = re.sub('-.*', '', name)\n",
    "    elif 'hoopa' in name:\n",
    "        name = re.sub('-.*', '', name)\n",
    "    elif 'oricorio' in name:\n",
    "        name = re.sub('-.*', '', name)\n",
    "    elif 'lycanroc' in name:\n",
    "        name = re.sub('-.*', '', name)\n",
    "    elif 'wishiwashi' in name:\n",
    "        name = re.sub('-.*', '', name)\n",
    "    elif 'minior' in name:\n",
    "        name = re.sub('-.*', '', name)\n",
    "    elif 'necrozma' in name:\n",
    "        name = re.sub('-.*', '', name)\n",
    "    elif 'toxtricity' in name:\n",
    "        name = re.sub('-.*', '', name)\n",
    "    elif 'eiscue' in name:\n",
    "        name = re.sub('-.*', '', name)\n",
    "    elif 'indeedee' in name:\n",
    "        name = re.sub('-.*', '', name)\n",
    "    elif 'morpeko' in name:\n",
    "        name = re.sub('-.*', '', name)\n",
    "    elif 'zacian' in name:\n",
    "        name = re.sub('-.*', '', name)\n",
    "    elif 'zamazenta' in name:\n",
    "        name = re.sub('-.*', '', name)\n",
    "    elif 'urshifu' in name:\n",
    "        name = re.sub('-.*', '', name)\n",
    "    elif 'calyrex' in name:\n",
    "        name = re.sub('-.*', '', name)\n",
    "    elif 'basculegion' in name:\n",
    "        name = re.sub('-.*', '', name)\n",
    "    elif 'meowstic' in name:\n",
    "        name = re.sub('-.*', '', name)\n",
    "    \n",
    "    return name"
   ]
  },
  {
   "cell_type": "code",
   "execution_count": 23,
   "metadata": {},
   "outputs": [],
   "source": [
    "# Function created to determine correct URL\n",
    "def URL_cleaning(origin_name, name, number):\n",
    "    URL_template = 'https://pokemondb.net/pokedex/{}/moves/{}'\n",
    "    \n",
    "    if (origin_name == 'Meowth Galarian Meowth' or \n",
    "        origin_name == 'Lycanroc Dusk Form' or\n",
    "        origin_name == 'Burmy Trash Cloak' or\n",
    "        origin_name == 'Wormadam Trash Cloak' or\n",
    "        origin_name == 'Calyrex Shadow Rider'):\n",
    "            # Gather all tables from generated URL\n",
    "            URL = URL_template.format(name, 8)\n",
    "            response = requests.get(URL)\n",
    "            soup = BS(response.text)\n",
    "            movesets = pd.read_html(str(soup))\n",
    "            table_index = 2\n",
    "            return movesets, table_index\n",
    "    elif (origin_name == 'Meowth Alolan Meowth' or \n",
    "          origin_name == 'Lycanroc Midnight Form' or\n",
    "          origin_name == 'Burmy Sandy Cloak' or\n",
    "          origin_name == 'Wormadam Sandy Cloak' or \n",
    "          origin_name == 'Indeedee Female' or\n",
    "          origin_name == 'Calyrex Ice Rider' or\n",
    "          origin_name == 'Exeggutor Alolan Exeggutor' or\n",
    "          origin_name == 'Sandshrew Alolan Sandshrew' or \n",
    "          origin_name == 'Sandslash Alolan Sandslash' or\n",
    "          origin_name == 'Marowak Alolan Marowak' or\n",
    "          origin_name == 'Vulpix Alolan Vulpix' or \n",
    "          origin_name == 'Ninetales Alolan Ninetales' or\n",
    "          origin_name == 'Raichu Alolan Raichu' or \n",
    "          origin_name == 'Diglett Alolan Diglett' or\n",
    "          origin_name == 'Dugtrio Alolan Dugtrio' or\n",
    "          'Galarian' in origin_name):\n",
    "            # Gather all tables from generated URL\n",
    "            URL = URL_template.format(name, 8)\n",
    "            response = requests.get(URL)\n",
    "            soup = BS(response.text)\n",
    "            movesets = pd.read_html(str(soup))\n",
    "            table_index = 1\n",
    "            return movesets, table_index\n",
    "    elif (origin_name == 'Hoopa Hoopa Unbound' or 'Alolan' in origin_name):\n",
    "        # Gather all tables from generated URL\n",
    "        URL = URL_template.format(name, 7)\n",
    "        response = requests.get(URL)\n",
    "        soup = BS(response.text)\n",
    "        movesets = pd.read_html(str(soup))\n",
    "        table_index = 1\n",
    "        return movesets, table_index\n",
    "    elif (number in excluded_pokemon or origin_name == 'Hoopa Hoopa Confined'):\n",
    "        # Gather all tables from generated URL\n",
    "        URL = URL_template.format(name, 7)\n",
    "        response = requests.get(URL)\n",
    "        soup = BS(response.text)\n",
    "        movesets = pd.read_html(str(soup))\n",
    "        table_index = 0\n",
    "        return movesets, table_index\n",
    "    elif 'Hisuian' in origin_name:\n",
    "        # Gather all tables from generated URL\n",
    "        URL = URL_template.format(name, 8)\n",
    "        response = requests.get(URL)\n",
    "        soup = BS(response.text)\n",
    "        movesets = pd.read_html(str(soup.find(id='tab-moves-20')))\n",
    "        table_index = 1\n",
    "        return movesets, table_index\n",
    "    else:\n",
    "        # Gather all tables from generated URL\n",
    "        URL = URL_template.format(name, 8)\n",
    "        response = requests.get(URL)\n",
    "        soup = BS(response.text)\n",
    "        movesets = pd.read_html(str(soup))\n",
    "        table_index = 0\n",
    "    \n",
    "    return movesets, table_index"
   ]
  },
  {
   "cell_type": "code",
   "execution_count": 24,
   "metadata": {
    "scrolled": true
   },
   "outputs": [],
   "source": [
    "# Dictionary for types in below for loop\n",
    "type_dict = {\"Grass\": 2,\n",
    " \"Fire\": 3,\n",
    " \"Water\": 4,\n",
    " \"Bug\": 5,\n",
    " \"Normal\": 6,\n",
    " \"Dark\": 7,\n",
    " \"Poison\": 8,\n",
    " \"Electric\": 9,\n",
    " \"Ground\": 10,\n",
    " \"Ice\": 11,\n",
    " \"Fairy\": 12,\n",
    " \"Steel\": 13,\n",
    " \"Fighting\": 14,\n",
    " \"Psychic\": 15,\n",
    " \"Rock\": 16,\n",
    " \"Ghost\": 17,\n",
    " \"Dragon\": 18,\n",
    " \"Flying\": 19\n",
    "}\n",
    "\n",
    "# Filter through each Pokemon and determine number of moves of each type\n",
    "for number, name in zip(pokedex['pokedex_number'], pokedex['name']):\n",
    "    origin_name = name\n",
    "    name = pokemon_name_cleaning(name)\n",
    "    movesets, table_index = URL_cleaning(origin_name, name, number)\n",
    "    \n",
    "    # Use table list index from earlier function with URL string to get specific table out\n",
    "    moveset = movesets[table_index]\n",
    "\n",
    "    # Count up unique moves from extracted table\n",
    "    moveset['Lv.'] = 1\n",
    "    moveset = moveset.drop_duplicates()\n",
    "    move_df = moveset.groupby('Type')['Lv.'].sum()\n",
    "    \n",
    "    # Temp list for new row to be added to moves_dataset\n",
    "    temp_move_list = [number, origin_name, 0, 0, 0, 0, 0, 0, 0, 0, 0, 0, 0, 0, 0, 0, 0, 0, 0, 0]\n",
    "    \n",
    "    # Loop through move_df dataframe and assign counts of move types to temp_move_list\n",
    "    for index in move_df.index:\n",
    "        temp_move_list[type_dict[index]] = move_df.loc[index]\n",
    "    \n",
    "    # Create new row in moves_dataset dataframe\n",
    "    moves_dataset.loc[len(moves_dataset.index)] = temp_move_list"
   ]
  },
  {
   "cell_type": "code",
   "execution_count": 25,
   "metadata": {},
   "outputs": [],
   "source": [
    "# Change pokedex_number from float type to int type\n",
    "moves_dataset['pokedex_number'] = moves_dataset['pokedex_number'].astype('int64')"
   ]
  },
  {
   "cell_type": "markdown",
   "metadata": {},
   "source": [
    "## Data Merging"
   ]
  },
  {
   "cell_type": "markdown",
   "metadata": {},
   "source": [
    "### Merge scraped and cleaned dataframes into one and export it out to an excel sheet."
   ]
  },
  {
   "cell_type": "code",
   "execution_count": 29,
   "metadata": {
    "scrolled": false
   },
   "outputs": [],
   "source": [
    "# Combine the scraped and cleaned dataframes into one\n",
    "pokedex_merged = pd.merge(pokedex, catch_rate, on='pokedex_number', how='left')\n",
    "pokedex_merged = pd.merge(pokedex_merged, egg_group, on='pokedex_number', how='left')\n",
    "pokedex_merged = pd.merge(pokedex_merged, moves_dataset, on=['pokedex_number', 'name'], how='left')"
   ]
  },
  {
   "cell_type": "code",
   "execution_count": 30,
   "metadata": {},
   "outputs": [],
   "source": [
    "# Export pokedex_merged dataframe as a csv\n",
    "pokedex_merged.to_csv('../data/pokedex_merged.csv', index=False)"
   ]
  }
 ],
 "metadata": {
  "kernelspec": {
   "display_name": "Python 3",
   "language": "python",
   "name": "python3"
  },
  "language_info": {
   "codemirror_mode": {
    "name": "ipython",
    "version": 3
   },
   "file_extension": ".py",
   "mimetype": "text/x-python",
   "name": "python",
   "nbconvert_exporter": "python",
   "pygments_lexer": "ipython3",
   "version": "3.8.5"
  }
 },
 "nbformat": 4,
 "nbformat_minor": 4
}
